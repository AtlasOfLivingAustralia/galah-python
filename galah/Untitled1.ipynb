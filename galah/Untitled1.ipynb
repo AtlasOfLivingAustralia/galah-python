{
 "cells": [
  {
   "cell_type": "markdown",
   "id": "0e71d430",
   "metadata": {},
   "source": [
    "Text here to explain a thing"
   ]
  },
  {
   "cell_type": "code",
   "execution_count": null,
   "id": "020b7427",
   "metadata": {},
   "outputs": [],
   "source": [
    "my_name = Amanda"
   ]
  }
 ],
 "metadata": {
  "kernelspec": {
   "display_name": "Python 3 (ipykernel)",
   "language": "python",
   "name": "python3"
  },
  "language_info": {
   "codemirror_mode": {
    "name": "ipython",
    "version": 3
   },
   "file_extension": ".py",
   "mimetype": "text/x-python",
   "name": "python",
   "nbconvert_exporter": "python",
   "pygments_lexer": "ipython3",
   "version": "3.9.7"
  }
 },
 "nbformat": 4,
 "nbformat_minor": 5
}
